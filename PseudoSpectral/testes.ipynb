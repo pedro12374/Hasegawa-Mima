{
 "cells": [
  {
   "cell_type": "code",
   "execution_count": 2,
   "metadata": {},
   "outputs": [
    {
     "name": "stdout",
     "output_type": "stream",
     "text": [
      "teste"
     ]
    }
   ],
   "source": [
    "print(\"teste\")"
   ]
  },
  {
   "cell_type": "code",
   "execution_count": 42,
   "metadata": {},
   "outputs": [
    {
     "data": {
      "text/plain": [
       "2-element Vector{Int64}:\n",
       " 1\n",
       " 2"
      ]
     },
     "execution_count": 42,
     "metadata": {},
     "output_type": "execute_result"
    }
   ],
   "source": [
    "v = zeros(2,0)\n",
    "c = [1,2]"
   ]
  },
  {
   "cell_type": "code",
   "execution_count": 77,
   "metadata": {},
   "outputs": [
    {
     "data": {
      "text/plain": [
       "2×4 Matrix{Float64}:\n",
       " 1.0  3.0  3.0  3.0\n",
       " 2.0  3.0  3.0  4.0"
      ]
     },
     "execution_count": 77,
     "metadata": {},
     "output_type": "execute_result"
    }
   ],
   "source": [
    "v = hcat(v,[3,4])\n"
   ]
  },
  {
   "cell_type": "code",
   "execution_count": 83,
   "metadata": {},
   "outputs": [
    {
     "data": {
      "text/plain": [
       "4-element Vector{Float64}:\n",
       " 1.0\n",
       " 3.0\n",
       " 3.0\n",
       " 3.0"
      ]
     },
     "execution_count": 83,
     "metadata": {},
     "output_type": "execute_result"
    }
   ],
   "source": [
    "a = transpose(v)\n",
    "a[:,1]"
   ]
  },
  {
   "cell_type": "code",
   "execution_count": 40,
   "metadata": {},
   "outputs": [],
   "source": [
    "nx, ny = 64, 64 # number of grid points\n",
    "Lx, Ly = 2.0*pi, 2.0*pi      # size of the domain in each direction\n",
    "\n",
    "# constructing the physical grid (x,y)\n",
    "dx, dy = Lx/nx, Ly/ny\n",
    " x = 0:dx:Lx-dx\n",
    " y = 0:dy:Ly-dy\n",
    "\n",
    "X  = zeros(nx,ny)\n",
    "Y  = zeros(nx,ny)\n",
    "for j in 1:ny, i in 1:nx\n",
    "     X[i, j] = x[i]\n",
    "     Y[i, j] = y[j]\n",
    "end"
   ]
  },
  {
   "cell_type": "code",
   "execution_count": 63,
   "metadata": {},
   "outputs": [
    {
     "data": {
      "text/plain": [
       "64×64 Matrix{Float64}:\n",
       " 0.0        0.0981748  0.19635   0.294524  …   5.98866   6.08684   6.18501\n",
       " 0.0981748  0.19635    0.294524  0.392699      6.08684   6.18501   6.28319\n",
       " 0.19635    0.294524   0.392699  0.490874      6.18501   6.28319   6.38136\n",
       " 0.294524   0.392699   0.490874  0.589049      6.28319   6.38136   6.47953\n",
       " 0.392699   0.490874   0.589049  0.687223      6.38136   6.47953   6.57771\n",
       " 0.490874   0.589049   0.687223  0.785398  …   6.47953   6.57771   6.67588\n",
       " 0.589049   0.687223   0.785398  0.883573      6.57771   6.67588   6.77406\n",
       " 0.687223   0.785398   0.883573  0.981748      6.67588   6.77406   6.87223\n",
       " 0.785398   0.883573   0.981748  1.07992       6.77406   6.87223   6.97041\n",
       " 0.883573   0.981748   1.07992   1.1781        6.87223   6.97041   7.06858\n",
       " 0.981748   1.07992    1.1781    1.27627   …   6.97041   7.06858   7.16676\n",
       " 1.07992    1.1781     1.27627   1.37445       7.06858   7.16676   7.26493\n",
       " 1.1781     1.27627    1.37445   1.47262       7.16676   7.26493   7.36311\n",
       " ⋮                                         ⋱                      \n",
       " 5.10509    5.20326    5.30144   5.39961      11.0937   11.1919   11.2901\n",
       " 5.20326    5.30144    5.39961   5.49779      11.1919   11.2901   11.3883\n",
       " 5.30144    5.39961    5.49779   5.59596      11.2901   11.3883   11.4864\n",
       " 5.39961    5.49779    5.59596   5.69414   …  11.3883   11.4864   11.5846\n",
       " 5.49779    5.59596    5.69414   5.79231      11.4864   11.5846   11.6828\n",
       " 5.59596    5.69414    5.79231   5.89049      11.5846   11.6828   11.781\n",
       " 5.69414    5.79231    5.89049   5.98866      11.6828   11.781    11.8791\n",
       " 5.79231    5.89049    5.98866   6.08684      11.781    11.8791   11.9773\n",
       " 5.89049    5.98866    6.08684   6.18501   …  11.8791   11.9773   12.0755\n",
       " 5.98866    6.08684    6.18501   6.28319      11.9773   12.0755   12.1737\n",
       " 6.08684    6.18501    6.28319   6.38136      12.0755   12.1737   12.2718\n",
       " 6.18501    6.28319    6.38136   6.47953      12.1737   12.2718   12.37"
      ]
     },
     "execution_count": 63,
     "metadata": {},
     "output_type": "execute_result"
    }
   ],
   "source": [
    "vecx = zeros(nx,ny)\n",
    "\n",
    "vecx = X+Y"
   ]
  },
  {
   "cell_type": "code",
   "execution_count": 89,
   "metadata": {},
   "outputs": [
    {
     "data": {
      "text/plain": [
       "9"
      ]
     },
     "execution_count": 89,
     "metadata": {},
     "output_type": "execute_result"
    }
   ],
   "source": [
    "function mindist2(x, val)\n",
    "    # using enumerate to avoid indexing\n",
    "    min_i = 0\n",
    "    min_x = Inf\n",
    "    for (i, xi) in enumerate(x)\n",
    "        dist = abs(xi - val)\n",
    "        if dist < min_x\n",
    "            min_x = dist\n",
    "            min_i = i\n",
    "        end\n",
    "    end\n",
    "    return min_i\n",
    "end\n",
    "mindist2(vecx,0.782664)"
   ]
  },
  {
   "cell_type": "code",
   "execution_count": 84,
   "metadata": {},
   "outputs": [
    {
     "data": {
      "text/plain": [
       "64×64 Matrix{Float64}:\n",
       " 0.0        0.0981748  0.19635    …  2.84707    2.94524    3.04342\n",
       " 0.0981748  0.19635    0.294524      2.94524    3.04342    0.0\n",
       " 0.19635    0.294524   0.392699      3.04342    0.0        0.0981748\n",
       " 0.294524   0.392699   0.490874      0.0        0.0981748  0.19635\n",
       " 0.392699   0.490874   0.589049      0.0981748  0.19635    0.294524\n",
       " 0.490874   0.589049   0.687223   …  0.19635    0.294524   0.392699\n",
       " 0.589049   0.687223   0.785398      0.294524   0.392699   0.490874\n",
       " 0.687223   0.785398   0.883573      0.392699   0.490874   0.589049\n",
       " 0.785398   0.883573   0.981748      0.490874   0.589049   0.687223\n",
       " 0.883573   0.981748   1.07992       0.589049   0.687223   0.785398\n",
       " 0.981748   1.07992    1.1781     …  0.687223   0.785398   0.883573\n",
       " 1.07992    1.1781     1.27627       0.785398   0.883573   0.981748\n",
       " 1.1781     1.27627    1.37445       0.883573   0.981748   1.07992\n",
       " ⋮                                ⋱                        \n",
       " 1.9635     2.06167    2.15984       1.66897    1.76715    1.86532\n",
       " 2.06167    2.15984    2.25802       1.76715    1.86532    1.9635\n",
       " 2.15984    2.25802    2.35619       1.86532    1.9635     2.06167\n",
       " 2.25802    2.35619    2.45437    …  1.9635     2.06167    2.15984\n",
       " 2.35619    2.45437    2.55254       2.06167    2.15984    2.25802\n",
       " 2.45437    2.55254    2.65072       2.15984    2.25802    2.35619\n",
       " 2.55254    2.65072    2.74889       2.25802    2.35619    2.45437\n",
       " 2.65072    2.74889    2.84707       2.35619    2.45437    2.55254\n",
       " 2.74889    2.84707    2.94524    …  2.45437    2.55254    2.65072\n",
       " 2.84707    2.94524    3.04342       2.55254    2.65072    2.74889\n",
       " 2.94524    3.04342    0.0           2.65072    2.74889    2.84707\n",
       " 3.04342    0.0        0.0981748     2.74889    2.84707    2.94524"
      ]
     },
     "execution_count": 84,
     "metadata": {},
     "output_type": "execute_result"
    }
   ],
   "source": [
    "@. mod(vecx,pi)"
   ]
  },
  {
   "cell_type": "code",
   "execution_count": 93,
   "metadata": {},
   "outputs": [],
   "source": [
    "using DataFrames,CSV, FFTW\n",
    "dx, dy = Lx/nx, Ly/ny\n",
    "x = 0:dx:Lx-dx\n",
    "y = 0:dy:Ly-dy\n",
    "\n",
    "X  = zeros(nx,ny)\n",
    "Y  = zeros(nx,ny)\n",
    "for j in 1:ny, i in 1:nx\n",
    "    X[i, j] = x[i]\n",
    "    Y[i, j] = y[j]\n",
    "end\n",
    "\n",
    "# constructing the wavenumber grid (k,l)\n",
    "k  = 2.0*pi/Lx * [0:nx/2; -nx/2+1:-1];\n",
    "l  = 2.0*pi/Ly * [0:ny/2; -ny/2+1:-1];\n",
    "\n",
    "Kx = zeros(nx, ny)\n",
    "Ky = zeros(nx, ny)\n",
    "for j in 1:ny, i in 1:nx\n",
    "   Kx[i, j] = k[i] #cria o grid em Kx\n",
    "   Ky[i, j] = l[j] #cria o grid em Ky\n",
    "end"
   ]
  },
  {
   "cell_type": "code",
   "execution_count": 94,
   "metadata": {},
   "outputs": [
    {
     "data": {
      "text/plain": [
       "64×64 Matrix{Float64}:\n",
       " -0.0125393   -0.0121989   -0.0118149   …  -0.0131905   -0.0128219\n",
       " -0.0130886   -0.0127854   -0.0124998      -0.0135812   -0.0133205\n",
       " -0.0135535   -0.0133147   -0.0131634      -0.0138864   -0.0137305\n",
       " -0.0139385   -0.0137934   -0.0138055      -0.0141109   -0.0140525\n",
       " -0.0142505   -0.0142278   -0.0144223      -0.0142581   -0.014289\n",
       " -0.0144979   -0.0146215   -0.0150064   …  -0.0143301   -0.0144449\n",
       " -0.0146885   -0.0149747   -0.0155471      -0.0143292   -0.0145267\n",
       " -0.0148277   -0.0152837   -0.0160323      -0.0142586   -0.0145421\n",
       " -0.0149179   -0.015542    -0.0164491      -0.0141228   -0.0144983\n",
       " -0.0149581   -0.0157409   -0.0167857      -0.0139267   -0.0144003\n",
       " -0.0149444   -0.0158712   -0.0170322   …  -0.0136751   -0.0142511\n",
       " -0.0148714   -0.0159241   -0.0171807      -0.0133719   -0.0140508\n",
       " -0.0147334   -0.0158923   -0.0172261      -0.0130195   -0.013798\n",
       "  ⋮                                     ⋱               \n",
       " -0.00199088  -0.00225524  -0.00243497     -0.00209094  -0.001894\n",
       " -0.00281451  -0.00299263  -0.00311074     -0.00315652  -0.00283226\n",
       " -0.00371413  -0.00380184  -0.00384613     -0.0042832   -0.00384197\n",
       " -0.00466965  -0.00466825  -0.00463076  …  -0.00543944  -0.00489685\n",
       " -0.00565897  -0.00557444  -0.00545149     -0.00659329  -0.00596951\n",
       " -0.00665982  -0.00650159  -0.00629364     -0.00771483  -0.00703363\n",
       " -0.00765121  -0.00743068  -0.00714228     -0.00877817  -0.00806587\n",
       " -0.00861443  -0.00834357  -0.00798369     -0.00976273  -0.00904705\n",
       " -0.00953345  -0.00922392  -0.0088066   …  -0.0106539   -0.00996271\n",
       " -0.010395    -0.010058    -0.0096032      -0.0114431   -0.0108029\n",
       " -0.0111883   -0.0108353   -0.0103697      -0.0121272   -0.0115616\n",
       " -0.011905    -0.0115496   -0.0111061      -0.012708    -0.0122352"
      ]
     },
     "execution_count": 94,
     "metadata": {},
     "output_type": "execute_result"
    }
   ],
   "source": [
    "phih = Matrix(CSV.read(\"Poth.csv\", DataFrame, header=false,delim='\\t', types=Complex{Float64}))\n",
    "phix = real(ifft(im*Kx.*phih))     # calculate phix velocity u(x,y,t)\n",
    "phiy = real(ifft(im*Ky.*phih))"
   ]
  },
  {
   "cell_type": "code",
   "execution_count": 104,
   "metadata": {},
   "outputs": [
    {
     "data": {
      "text/plain": [
       "-0.013163390166547873"
      ]
     },
     "execution_count": 104,
     "metadata": {},
     "output_type": "execute_result"
    }
   ],
   "source": [
    "phiy[3,3]"
   ]
  },
  {
   "cell_type": "code",
   "execution_count": 96,
   "metadata": {},
   "outputs": [
    {
     "data": {
      "text/plain": [
       "33"
      ]
     },
     "execution_count": 96,
     "metadata": {},
     "output_type": "execute_result"
    }
   ],
   "source": [
    "mindist2(x,3.1)"
   ]
  },
  {
   "cell_type": "code",
   "execution_count": 105,
   "metadata": {},
   "outputs": [],
   "source": [
    "using Random"
   ]
  },
  {
   "cell_type": "code",
   "execution_count": 26,
   "metadata": {},
   "outputs": [],
   "source": [
    "using CSV, DataFrames, PyPlot"
   ]
  },
  {
   "cell_type": "code",
   "execution_count": 65,
   "metadata": {},
   "outputs": [
    {
     "data": {
      "text/plain": [
       "10000×4 Matrix{Float64}:\n",
       "    0.0          0.0         0.0           0.0\n",
       "    0.128263     0.198117    0.0175438     0.160726\n",
       "    0.386497     0.574956    0.0526315     0.476873\n",
       "    0.652814     0.936069    0.0877192     0.787716\n",
       "    0.925509     1.30085     0.122807      1.09856\n",
       "    1.1982       1.66563     0.157895      1.40431\n",
       "    1.4709       2.0124      0.192982      1.70125\n",
       "    1.74925      2.34115     0.22807       1.99447\n",
       "    2.03325      2.67242     0.263158      2.2877\n",
       "    2.31726      3.00622     0.298245      2.58092\n",
       "    2.60127      3.32428     0.333333      2.86984\n",
       "    2.89007      3.62662     0.368421      3.15258\n",
       "    3.18367      3.92895     0.403508      3.43343\n",
       "    ⋮                                   \n",
       " 1565.78      1773.1       993.32       2048.84\n",
       " 1565.83      1773.28      993.332      2049.0\n",
       " 1565.88      1773.49      993.344      2049.15\n",
       " 1565.94      1773.71      993.357      2049.29\n",
       " 1565.99      1773.93      993.369      2049.44\n",
       " 1566.04      1774.15      993.381      2049.59\n",
       " 1566.09      1774.36      993.393      2049.74\n",
       " 1566.14      1774.59      993.406      2049.89\n",
       " 1566.19      1774.84      993.418      2050.04\n",
       " 1566.24      1775.09      993.43       2050.2\n",
       " 1566.29      1775.34      993.443      2050.34\n",
       " 1566.34      1775.59      993.455      2050.47"
      ]
     },
     "execution_count": 65,
     "metadata": {},
     "output_type": "execute_result"
    }
   ],
   "source": [
    "x = Matrix(CSV.read(\"pos.csv\", DataFrame, header=false,delim='\\t', types=Float64))\n"
   ]
  },
  {
   "cell_type": "code",
   "execution_count": 68,
   "metadata": {},
   "outputs": [
    {
     "data": {
      "image/png": "[encoded data removed]",
      "text/plain": [
       "Figure(PyObject <Figure size 640x480 with 1 Axes>)"
      ]
     },
     "metadata": {},
     "output_type": "display_data"
    },
    {
     "data": {
      "text/plain": [
       "1-element Vector{PyCall.PyObject}:\n",
       " PyObject <matplotlib.lines.Line2D object at 0x7ff584592ec0>"
      ]
     },
     "execution_count": 68,
     "metadata": {},
     "output_type": "execute_result"
    }
   ],
   "source": [
    "AA = sqrt.((x[:,1].-x[1,1]).^2).+sqrt.((x[:,2].-x[1,2]).^2).+sqrt.((x[:,3].-x[1,3]).^2).+sqrt.((x[:,4].-x[1,4]).^2)\n",
    "AA = AA ./4\n",
    "#yscale(\"log\")\n",
    "plot(AA)\n"
   ]
  },
  {
   "cell_type": "code",
   "execution_count": 64,
   "metadata": {},
   "outputs": [
    {
     "data": {
      "image/png": "[encoded data removed]",
      "text/plain": [
       "Figure(PyObject <Figure size 640x480 with 1 Axes>)"
      ]
     },
     "metadata": {},
     "output_type": "display_data"
    },
    {
     "data": {
      "text/plain": [
       "1-element Vector{PyCall.PyObject}:\n",
       " PyObject <matplotlib.lines.Line2D object at 0x7ff5847baaa0>"
      ]
     },
     "execution_count": 64,
     "metadata": {},
     "output_type": "execute_result"
    }
   ],
   "source": [
    "aux = 0\n",
    "MSD = zeros(length(x[:,1]))\n",
    "#push!(MSD,0)\n",
    "for j in 2:2:8\n",
    "    MSD += sqrt.((x[:,j].-x[1,j]).^2)\n",
    "    #push!(MSD,aux/i)\n",
    "end\n",
    "#yscale(\"log\")\n",
    "plot(MSD./4)\n"
   ]
  },
  {
   "cell_type": "code",
   "execution_count": 52,
   "metadata": {},
   "outputs": [
    {
     "data": {
      "text/plain": [
       "10000-element Vector{Float64}:\n",
       " 0.0\n",
       " 6.384882566390495\n",
       " 6.429608551043086\n",
       " 6.473938970337928\n",
       " 6.518269389632768\n",
       " 6.560137937859272\n",
       " 6.594578381057765\n",
       " 6.627594574307068\n",
       " 6.661717105428684\n",
       " 6.6958396365503035\n",
       " 6.722421677214977\n",
       " 6.744993538210611\n",
       " 6.767565399206247\n",
       " ⋮\n",
       " 9.746257480398985\n",
       " 9.725468160190509\n",
       " 9.702969291689982\n",
       " 9.680470423189453\n",
       " 9.657971554688924\n",
       " 9.634229229981251\n",
       " 9.609854779492064\n",
       " 9.583788911526353\n",
       " 9.55772304356064\n",
       " 9.531657175594928\n",
       " 9.508026288600155\n",
       " 9.484395401605381"
      ]
     },
     "execution_count": 52,
     "metadata": {},
     "output_type": "execute_result"
    }
   ],
   "source": [
    "MSD"
   ]
  },
  {
   "cell_type": "code",
   "execution_count": 59,
   "metadata": {},
   "outputs": [
    {
     "data": {
      "text/plain": [
       "2-element Vector{Int64}:\n",
       " 1\n",
       " 2"
      ]
     },
     "execution_count": 59,
     "metadata": {},
     "output_type": "execute_result"
    }
   ],
   "source": [
    "a = [1,2]\n",
    "a"
   ]
  },
  {
   "cell_type": "code",
   "execution_count": null,
   "metadata": {},
   "outputs": [],
   "source": []
  }
 ],
 "metadata": {
  "kernelspec": {
   "display_name": "Julia 1.9.1",
   "language": "julia",
   "name": "julia-1.9"
  },
  "language_info": {
   "file_extension": ".jl",
   "mimetype": "application/julia",
   "name": "julia",
   "version": "1.9.1"
  },
  "orig_nbformat": 4
 },
 "nbformat": 4,
 "nbformat_minor": 2
}
