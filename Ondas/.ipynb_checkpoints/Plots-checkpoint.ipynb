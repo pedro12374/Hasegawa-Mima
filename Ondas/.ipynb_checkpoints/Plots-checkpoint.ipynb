{
 "cells": [
  {
   "cell_type": "code",
   "execution_count": 42,
   "id": "02e2bcfa",
   "metadata": {},
   "outputs": [],
   "source": [
    "%matplotlib notebook\n",
    "\n",
    "import matplotlib.pyplot as plt\n",
    "import pandas as pd\n",
    "import numpy as np"
   ]
  },
  {
   "cell_type": "code",
   "execution_count": 53,
   "id": "9641bafd",
   "metadata": {},
   "outputs": [],
   "source": [
    "plt.rcParams[\"mathtext.fontset\"] = \"cm\" # Fonte matemática pro latex\n",
    "plt.rc('font', family='serif') # fonte tipo serif, p fica paredico com latex msm\n",
    "plt.rc('text', usetex=False) # esse vc deixa True e for salvar em pdf e False se for p salvar png\n",
    "\n",
    "fig, ax = plt.subplots()\n",
    "plt.tight_layout() # isso aq nsei bem qq faz mas ajuda a deixar menos espaço em branco\n",
    "fig.set_size_inches(20*0.393, 20*0.393) # esse fatir 0.393 é p converter polegadas p cm \"\"\""
   ]
  },
  {
   "cell_type": "code",
   "execution_count": 32,
   "id": "da8c89a0",
   "metadata": {},
   "outputs": [],
   "source": [
    "def gridstart(N):\n",
    "    X = np.linspace(0,10,10)\n",
    "    Y = np.linspace(0,10,N)\n",
    "    A = []\n",
    "    for x in X:\n",
    "        for y in Y:\n",
    "            A.append([x,y])\n",
    "    A = np.array(A)\n",
    "    return A \n",
    "\n",
    "A = gridstart(35)\n",
    "for i in range(len(A)):\n",
    "    config = A[i]\n",
    "    file = \"Ea_\"+str(config[0])+\"-Eb_\"+str(round(config[1],1))+\".csv\"\n",
    "    print(file)"
   ]
  },
  {
   "cell_type": "code",
   "execution_count": 36,
   "id": "5c5a659c",
   "metadata": {},
   "outputs": [],
   "source": [
    "\n",
    "file = \"dat/Ea_1.0-Eb_4.1.csv\"\n",
    "df = pd.read_csv(file)\n",
    "df.columns"
   ]
  },
  {
   "cell_type": "code",
   "execution_count": 52,
   "id": "d5d3ad9d",
   "metadata": {},
   "outputs": [],
   "source": [
    "E_x = np.linspace(0,10,100)\n",
    "E_y = -1.0*E_x**2-1*E_x\n",
    "plt.plot(E_x,E_y)\n",
    "plt.show()"
   ]
  },
  {
   "cell_type": "code",
   "execution_count": 37,
   "id": "c5b46a57",
   "metadata": {},
   "outputs": [],
   "source": [
    "tt = df['time'].to_numpy()\n",
    "\n",
    "x_r = df['x_r'].to_numpy()\n",
    "y_r = df['y_r'].to_numpy()\n",
    "\n",
    "dx_r = df['dx_r'].to_numpy()\n",
    "dy_r = df['dy_r'].to_numpy()"
   ]
  },
  {
   "cell_type": "code",
   "execution_count": 13,
   "id": "5a825882",
   "metadata": {},
   "outputs": [],
   "source": [
    "N = 11**2\n",
    "\n",
    "\n",
    "tft = tt/3.82e7\n",
    "\n",
    "y_r = y_r%(2*np.pi)\n",
    "t = np.split(tt,N)\n",
    "tf = np.split(tft,N)\n",
    "\n",
    "x = np.split(x_r,N)\n",
    "dx = np.split(dx_r,N)\n",
    "y = np.split(y_r,N)\n",
    "\n",
    "phi_t = phi1_r+phi1_i+phi2_r+phi2_i+phi3_r+phi3_i\n",
    "phi_t = phi_t*0.5*10\n",
    "\n",
    "phi = np.split(phi_t,N)\n"
   ]
  },
  {
   "cell_type": "code",
   "execution_count": 14,
   "id": "5f032d1f",
   "metadata": {},
   "outputs": [],
   "source": [
    "for j in range(N):\n",
    "    ax[0,0].plot(tf[j],phi[j])\n",
    "    ax[1,0].plot(t[j],x[j])\n",
    "    ax[1,1].plot(t[j],dx[j])\n",
    "    ax[0,1].scatter(y[j],x[j],s=0.01,c=\"black\")\n",
    "\"\"\"\n",
    "ax[0,0].set_xlabel('t')\n",
    "ax[0,0].set_ylabel('phi(t)')\n",
    "ax[1,0].set_xlabel('t')\n",
    "ax[1,0].set_ylabel('x(t)')\n",
    "ax[1,1].set_xlabel('t')\n",
    "ax[1,1].set_ylabel('y(t)')\n",
    "ax[0,1].set_xlabel('y')\n",
    "ax[0,1].set_ylabel('x')\n",
    "\"\"\"\n",
    "plt.savefig(\"bbb.png\")\n",
    "#plt.show()"
   ]
  },
  {
   "cell_type": "code",
   "execution_count": null,
   "id": "f343e0aa",
   "metadata": {},
   "outputs": [],
   "source": []
  },
  {
   "cell_type": "code",
   "execution_count": null,
   "id": "3e493b69",
   "metadata": {},
   "outputs": [],
   "source": []
  }
 ],
 "metadata": {
  "kernelspec": {
   "display_name": "Python 3 (ipykernel)",
   "language": "python",
   "name": "python3"
  },
  "language_info": {
   "codemirror_mode": {
    "name": "ipython",
    "version": 3
   },
   "file_extension": ".py",
   "mimetype": "text/x-python",
   "name": "python",
   "nbconvert_exporter": "python",
   "pygments_lexer": "ipython3",
   "version": "3.11.3"
  }
 },
 "nbformat": 4,
 "nbformat_minor": 5
}
